{
  "nbformat": 4,
  "nbformat_minor": 0,
  "metadata": {
    "colab": {
      "provenance": [],
      "authorship_tag": "ABX9TyMevUZhyUH/4YCUzG8sVfYX",
      "include_colab_link": true
    },
    "kernelspec": {
      "name": "python3",
      "display_name": "Python 3"
    },
    "language_info": {
      "name": "python"
    }
  },
  "cells": [
    {
      "cell_type": "markdown",
      "metadata": {
        "id": "view-in-github",
        "colab_type": "text"
      },
      "source": [
        "<a href=\"https://colab.research.google.com/github/ANUBHAV4646/PRODIGY_GAI_03/blob/main/Task3.ipynb\" target=\"_parent\"><img src=\"https://colab.research.google.com/assets/colab-badge.svg\" alt=\"Open In Colab\"/></a>"
      ]
    },
    {
      "cell_type": "code",
      "execution_count": 5,
      "metadata": {
        "colab": {
          "base_uri": "https://localhost:8080/"
        },
        "id": "1W4luUDU_2eM",
        "outputId": "a1ee551a-c4df-4ef7-dd89-b93365826743"
      },
      "outputs": [
        {
          "output_type": "stream",
          "name": "stdout",
          "text": [
            "Enter a starting 2-gram (space-separated) or leave blank for random: artificial intelligence\n",
            "\n",
            "Generated Text:\n",
            " artificial intelligence is transforming the way we live and work. it enables machines to learn from data, adapt to new inputs, and perform tasks that traditionally required human intelligence. from\n"
          ]
        }
      ],
      "source": [
        "import random\n",
        "\n",
        "def build_markov_chain(text, n=1):\n",
        "    words = text.split()\n",
        "    markov_chain = {}\n",
        "\n",
        "    for i in range(len(words) - n):\n",
        "        prefix = tuple(words[i:i+n])\n",
        "        next_word = words[i+n]\n",
        "        if prefix not in markov_chain:\n",
        "            markov_chain[prefix] = []\n",
        "        markov_chain[prefix].append(next_word)\n",
        "\n",
        "    return markov_chain\n",
        "\n",
        "def generate_text(markov_chain, n=1, length=30, start=None):\n",
        "    if start and start in markov_chain:\n",
        "        current = start\n",
        "    else:\n",
        "        print(\"Starting word not found or not provided. Using random start.\")\n",
        "        current = random.choice(list(markov_chain.keys()))\n",
        "\n",
        "    result = list(current)\n",
        "\n",
        "    for _ in range(length - n):\n",
        "        prefix = tuple(result[-n:])\n",
        "        next_words = markov_chain.get(prefix)\n",
        "        if not next_words:\n",
        "            break\n",
        "        next_word = random.choice(next_words)\n",
        "        result.append(next_word)\n",
        "\n",
        "    return ' '.join(result)\n",
        "\n",
        "if __name__ == \"__main__\":\n",
        "    input_text = \"\"\"\n",
        "    Artificial intelligence is transforming the way we live and work. It enables machines to learn from data, adapt to new inputs, and perform tasks that traditionally required human intelligence. From self-driving cars and virtual assistants to medical diagnostics and financial forecasting, AI is becoming an essential part of modern technology. As researchers continue to advance this field, ethical considerations and responsible development are more important than ever.\n",
        "    \"\"\"\n",
        "\n",
        "    n = 2\n",
        "    chain = build_markov_chain(input_text.lower(), n)\n",
        "    user_input = input(f\"Enter a starting {n}-gram (space-separated) or leave blank for random: \").strip()\n",
        "    start_tuple = tuple(user_input.split()) if user_input else None\n",
        "\n",
        "    if start_tuple and len(start_tuple) != n:\n",
        "        print(f\"Invalid input. Expected {n} word(s), got {len(start_tuple)}. Using random start.\")\n",
        "        start_tuple = None\n",
        "\n",
        "    generated_text = generate_text(chain, n=n, length=30, start=start_tuple)\n",
        "    print(\"\\nGenerated Text:\\n\", generated_text)\n"
      ]
    }
  ]
}